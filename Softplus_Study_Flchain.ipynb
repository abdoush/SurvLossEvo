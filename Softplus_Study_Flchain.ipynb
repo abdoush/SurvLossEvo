{
 "cells": [
  {
   "cell_type": "code",
   "execution_count": null,
   "metadata": {},
   "outputs": [],
   "source": [
    "import matplotlib.pyplot as plt\n",
    "from Genetic.Representation import Function\n",
    "from Genetic.NeuroEvolution import NeuroEvolution\n",
    "import tensorflow.keras as keras\n",
    "from tensorflow.keras import layers\n",
    "from tensorflow.keras.losses import mse\n",
    "import tensorflow as tf\n",
    "import tensorflow.keras.backend as K\n",
    "import pandas as pd\n",
    "import seaborn as sns\n",
    "from IPython.display import display\n",
    "import numpy as np\n",
    "from Model.model import SurvModel, FlchainModel, NwtcoModel, SupportModel\n",
    "from Data.dataset import Flchain, Support, Nwtco\n",
    "from tensorflow.keras.optimizers import Adam\n",
    "\n",
    "from tensorflow.keras.callbacks import EarlyStopping, ModelCheckpoint\n",
    "from scipy.stats import f_oneway, ttest_rel\n",
    "\n",
    "from Utils.utils import Experiment, FunctionHelper, StatsHelper\n",
    "from itertools import combinations"
   ]
  },
  {
   "cell_type": "code",
   "execution_count": null,
   "metadata": {
    "scrolled": false
   },
   "outputs": [],
   "source": [
    "surv_reg1_func = [1, 9, 9, 1, 5, 12, 7, 9, 7]\n",
    "surv_reg2_func = [1, 9, 12, 1, 5, 12, 7, 9, 7]\n",
    "\n",
    "surv_reglog_func = [1, 9, 17, 1, 1, 12, 7, 9, 7]\n",
    "surv_reglog_trunc_func = [1, 9, 29, 1, 2, 12, 7, 17, 31]\n",
    "surv_reglog_notrunc_func = [1, 9, 9, 1, 2, 12, 7, 17, 31]\n",
    "\n",
    "surv_reg1_f = FunctionHelper(surv_reg1_func)\n",
    "surv_reg2_f = FunctionHelper(surv_reg2_func)\n",
    "surv_reglog_f = FunctionHelper(surv_reglog_func)\n",
    "surv_reglog_trunc_f = FunctionHelper(surv_reglog_trunc_func)\n",
    "surv_reglog_notrunc_f = FunctionHelper(surv_reglog_notrunc_func)\n",
    "\n",
    "surv_reg1_f.plot_surv_loss()\n",
    "surv_reg2_f.plot_surv_loss()\n",
    "surv_reglog_f.plot_surv_loss(y_min=-2, y_max=2, subtitle='SurvRegLog')\n",
    "surv_reglog_notrunc_f.plot_surv_loss(y_min=-2, y_max=2, subtitle='SurvRegLog_Notrunc')\n",
    "surv_reglog_trunc_f.plot_surv_loss(y_min=-2, y_max=2, subtitle='SurvRegLog_trunc')\n"
   ]
  },
  {
   "cell_type": "code",
   "execution_count": null,
   "metadata": {},
   "outputs": [],
   "source": [
    "model_class = FlchainModel\n",
    "ds = Flchain('Data/flchain.csv')"
   ]
  },
  {
   "cell_type": "code",
   "execution_count": null,
   "metadata": {},
   "outputs": [],
   "source": [
    "(x_train, ye_train, y_train, e_train,\n",
    " x_val, ye_val, y_val, e_val,\n",
    " x_test, ye_test, y_test, e_test) = ds.get_train_val_test_from_splits(test_id=0, val_id=1)\n",
    "xy = (x_train, ye_train), (x_val, ye_val), (x_test, ye_test)"
   ]
  },
  {
   "cell_type": "code",
   "execution_count": null,
   "metadata": {},
   "outputs": [],
   "source": [
    "exp_reglog_trunc = Experiment(model_class=model_class, \n",
    "                  ds=ds, \n",
    "                  loss_f=surv_reglog_trunc_f.f, \n",
    "                  step_f=None, \n",
    "                  use_clb=False, \n",
    "                  batch_size=128, \n",
    "                  epochs=500, \n",
    "                  patience=100, \n",
    "                  verbose=False)\n",
    "exp_reglog_trunc.get_results_cv()"
   ]
  },
  {
   "cell_type": "code",
   "execution_count": null,
   "metadata": {},
   "outputs": [],
   "source": [
    "exp_reglog_notrunc = Experiment(model_class=model_class, \n",
    "                  ds=ds, \n",
    "                  loss_f=surv_reglog_notrunc_f.f, \n",
    "                  step_f=None, \n",
    "                  use_clb=False, \n",
    "                  batch_size=128, \n",
    "                  epochs=500, \n",
    "                  patience=100, \n",
    "                  verbose=False)\n",
    "exp_reglog_notrunc.get_results_cv()"
   ]
  },
  {
   "cell_type": "code",
   "execution_count": null,
   "metadata": {},
   "outputs": [],
   "source": [
    "StatsHelper.plot_box(folds1=exp_reglog_trunc.folds_scores, name1='softplus_truncated', folds2=exp_reglog_notrunc.folds_scores, name2='softplus')"
   ]
  },
  {
   "cell_type": "code",
   "execution_count": null,
   "metadata": {},
   "outputs": [],
   "source": []
  },
  {
   "cell_type": "code",
   "execution_count": null,
   "metadata": {},
   "outputs": [],
   "source": []
  }
 ],
 "metadata": {
  "kernelspec": {
   "display_name": "Python 3",
   "language": "python",
   "name": "python3"
  },
  "language_info": {
   "codemirror_mode": {
    "name": "ipython",
    "version": 3
   },
   "file_extension": ".py",
   "mimetype": "text/x-python",
   "name": "python",
   "nbconvert_exporter": "python",
   "pygments_lexer": "ipython3",
   "version": "3.7.10"
  }
 },
 "nbformat": 4,
 "nbformat_minor": 4
}
