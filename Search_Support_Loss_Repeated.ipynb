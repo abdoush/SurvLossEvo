{
 "cells": [
  {
   "cell_type": "code",
   "execution_count": null,
   "metadata": {},
   "outputs": [],
   "source": [
    "import matplotlib.pyplot as plt\n",
    "from Genetic.Representation import Function\n",
    "from Genetic.NeuroEvolution import NeuroEvolution\n",
    "import tensorflow.keras as keras\n",
    "from tensorflow.keras import layers\n",
    "from tensorflow.keras.losses import mse\n",
    "import tensorflow as tf\n",
    "import tensorflow.keras.backend as K\n",
    "import pandas as pd\n",
    "import seaborn as sns\n",
    "from IPython.display import display\n",
    "import numpy as np\n",
    "from Model.model import SurvModel, FlchainModel, NwtcoModel, SupportModel\n",
    "from Data.dataset import Flchain, Support, Nwtco\n",
    "from tensorflow.keras.optimizers import Adam\n",
    "\n",
    "from tensorflow.keras.callbacks import EarlyStopping, ModelCheckpoint\n",
    "from scipy.stats import f_oneway, ttest_rel\n",
    "\n",
    "from Utils.utils import Experiment, FunctionHelper, StatsHelper"
   ]
  },
  {
   "cell_type": "code",
   "execution_count": null,
   "metadata": {},
   "outputs": [],
   "source": [
    "surv_reg1_func = [1, 9, 9, 1, 5, 12, 7, 9, 7]\n",
    "surv_reg2_func = [1, 9, 12, 1, 5, 12, 7, 9, 7]\n",
    "\n",
    "surv_reg1_f = FunctionHelper(surv_reg1_func)\n",
    "surv_reg2_f = FunctionHelper(surv_reg2_func)\n",
    "\n",
    "surv_reg1_f.plot_surv_loss()\n",
    "surv_reg2_f.plot_surv_loss()"
   ]
  },
  {
   "cell_type": "code",
   "execution_count": null,
   "metadata": {},
   "outputs": [],
   "source": [
    "model_class = SupportModel\n",
    "ds = Support('Data/support2.csv')"
   ]
  },
  {
   "cell_type": "code",
   "execution_count": null,
   "metadata": {},
   "outputs": [],
   "source": [
    "(x_train, ye_train, y_train, e_train,\n",
    " x_val, ye_val, y_val, e_val,\n",
    " x_test, ye_test, y_test, e_test) = ds.get_train_val_test_from_splits(test_id=0, val_id=1)\n",
    "xy = (x_train, ye_train), (x_val, ye_val), (x_test, ye_test)"
   ]
  },
  {
   "cell_type": "code",
   "execution_count": null,
   "metadata": {},
   "outputs": [],
   "source": [
    "model = model_class(xy, f_loss=surv_reg2_f.f, f_step=None, use_clb=0, sample_size=-1)\n",
    "model.create_model()\n",
    "\n",
    "batchSize = 128\n",
    "epochs = 2\n",
    "optimizer = Adam(lr=0.0001)\n",
    "verbose = 1\n",
    "\n",
    "model.set_config(optimizer, batch_size=batchSize, epochs=epochs, test_mode=True, verbose=verbose)\n",
    "\n",
    "model.fit()"
   ]
  },
  {
   "cell_type": "code",
   "execution_count": null,
   "metadata": {},
   "outputs": [],
   "source": [
    "model.model.summary()"
   ]
  },
  {
   "cell_type": "code",
   "execution_count": null,
   "metadata": {},
   "outputs": [],
   "source": [
    "logs = []\n",
    "for i in range(10):\n",
    "    log, population = NeuroEvolution.SAGA_V0(model,\n",
    "                                          populationSize=10, \n",
    "                                          reductionRate=1,\n",
    "                                          pateince=2,\n",
    "                                          tolerance=0,\n",
    "                                          d=False,\n",
    "                                          epochs=128,\n",
    "                                          maxNoChange=np.inf,\n",
    "                                          initilizationMax=2,\n",
    "                                          verbose=1,\n",
    "                                          include=False,\n",
    "                                          optimizationTask='loss',\n",
    "                                          evaluation='validation',\n",
    "                                          timeout=np.inf)\n",
    "    logs.append(log)\n"
   ]
  },
  {
   "cell_type": "code",
   "execution_count": null,
   "metadata": {
    "scrolled": true
   },
   "outputs": [],
   "source": [
    "for log in logs:\n",
    "    display(log)"
   ]
  },
  {
   "cell_type": "code",
   "execution_count": null,
   "metadata": {},
   "outputs": [],
   "source": [
    "for log in logs:\n",
    "    best_func_rep = log.iloc[-1]['best_solution']\n",
    "    best_f = FunctionHelper(best_func_rep)\n",
    "    best_f.plot_surv_loss(x_min=-1, x_max=1, y_min=-2, y_max=2, num_points=1000)"
   ]
  },
  {
   "cell_type": "code",
   "execution_count": null,
   "metadata": {},
   "outputs": [],
   "source": []
  },
  {
   "cell_type": "code",
   "execution_count": null,
   "metadata": {},
   "outputs": [],
   "source": [
    "exps_cv = []\n",
    "for i, log in enumerate(logs):\n",
    "    print(i, '===============================================================================')\n",
    "    best_func_rep = log.iloc[-1]['best_solution']\n",
    "    best_f = FunctionHelper(best_func_rep)\n",
    "    exp = Experiment(model_class=model_class, \n",
    "                      ds=ds, \n",
    "                      loss_f=best_f.f, \n",
    "                      step_f=None, \n",
    "                      use_clb=False, \n",
    "                      batch_size=128, \n",
    "                      epochs=500, \n",
    "                      patience=100, \n",
    "                      verbose=False)\n",
    "    exp.get_results_cv()\n",
    "    exps_cv.append(exp)"
   ]
  },
  {
   "cell_type": "code",
   "execution_count": null,
   "metadata": {},
   "outputs": [],
   "source": [
    "exp4 = Experiment(model_class=model_class, \n",
    "                  ds=ds, \n",
    "                  loss_f=surv_reg2_f.f, \n",
    "                  step_f=None, \n",
    "                  use_clb=False, \n",
    "                  batch_size=128, \n",
    "                  epochs=500, \n",
    "                  patience=100, \n",
    "                  verbose=False)\n",
    "exp4.get_results_cv()"
   ]
  },
  {
   "cell_type": "code",
   "execution_count": null,
   "metadata": {},
   "outputs": [],
   "source": [
    "for exp in exps_cv:\n",
    "    StatsHelper.plot_box(folds1=exp.folds_scores, name1='SurvEvo_Support', folds2=exp4.folds_scores, name2='Surv_reg2')"
   ]
  },
  {
   "cell_type": "code",
   "execution_count": null,
   "metadata": {},
   "outputs": [],
   "source": [
    "for i, log in enumerate(logs):\n",
    "    best_func_rep = log.iloc[-1]['best_solution']\n",
    "    print(best_func_rep)\n",
    "    print(exps[i].folds_scores)\n",
    "    StatsHelper.get_confidence(exps[i].folds_scores)\n",
    "    print(exps_cv[i].folds_scores)\n",
    "    StatsHelper.get_confidence(exps_cv[i].folds_scores)\n",
    "    print('======================================================================')\n",
    "    "
   ]
  },
  {
   "cell_type": "code",
   "execution_count": null,
   "metadata": {},
   "outputs": [],
   "source": []
  }
 ],
 "metadata": {
  "kernelspec": {
   "display_name": "Python 3",
   "language": "python",
   "name": "python3"
  },
  "language_info": {
   "codemirror_mode": {
    "name": "ipython",
    "version": 3
   },
   "file_extension": ".py",
   "mimetype": "text/x-python",
   "name": "python",
   "nbconvert_exporter": "python",
   "pygments_lexer": "ipython3",
   "version": "3.7.10"
  }
 },
 "nbformat": 4,
 "nbformat_minor": 4
}
