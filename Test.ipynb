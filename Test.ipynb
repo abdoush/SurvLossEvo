{
 "cells": [
  {
   "cell_type": "code",
   "execution_count": 1,
   "id": "38d3946d",
   "metadata": {},
   "outputs": [],
   "source": [
    "from Data.dataset import Flchain, Support, Nwtco"
   ]
  },
  {
   "cell_type": "code",
   "execution_count": 29,
   "id": "239f5993",
   "metadata": {},
   "outputs": [
    {
     "name": "stdout",
     "output_type": "stream",
     "text": [
      "Dataset Description =======================\n",
      "Dataset Name: Nwtco\n",
      "Dataset Shape: (4028, 11)\n",
      "Events: 14.18 %\n",
      "NaN Values: 0.00 %\n",
      "Events % in splits: 14.26, 14.08, 14.08, 14.29, 14.08, \n",
      "===========================================\n",
      "\n"
     ]
    }
   ],
   "source": [
    "ds = Nwtco('Data/nwtco.csv', test_fract=0.4)"
   ]
  },
  {
   "cell_type": "code",
   "execution_count": 30,
   "id": "e88fe3fe",
   "metadata": {},
   "outputs": [
    {
     "name": "stdout",
     "output_type": "stream",
     "text": [
      "(484, 11)\n",
      "(483, 11)\n",
      "(483, 11)\n",
      "(483, 11)\n",
      "(483, 11)\n",
      "0.5998013902681232\n"
     ]
    }
   ],
   "source": [
    "s=0\n",
    "for i in range(5):\n",
    "    print(ds.n_splits[i].shape)\n",
    "    s += ds.n_splits[i].shape[0]\n",
    "print(s/ds.df.shape[0])"
   ]
  },
  {
   "cell_type": "code",
   "execution_count": 31,
   "id": "59374328",
   "metadata": {},
   "outputs": [],
   "source": [
    "(x_train, ye_train, y_train, e_train,\n",
    "x_val, ye_val, y_val, e_val,\n",
    "x_test, ye_test, y_test, e_test) = ds.get_train_val_test_from_splits(0, 1)"
   ]
  },
  {
   "cell_type": "code",
   "execution_count": 32,
   "id": "ff2430d7",
   "metadata": {},
   "outputs": [
    {
     "data": {
      "text/plain": [
       "(1449, 9)"
      ]
     },
     "execution_count": 32,
     "metadata": {},
     "output_type": "execute_result"
    }
   ],
   "source": [
    "x_train.shape"
   ]
  },
  {
   "cell_type": "code",
   "execution_count": 33,
   "id": "fbc6fe5f",
   "metadata": {},
   "outputs": [
    {
     "data": {
      "text/plain": [
       "(484, 9)"
      ]
     },
     "execution_count": 33,
     "metadata": {},
     "output_type": "execute_result"
    }
   ],
   "source": [
    "x_val.shape"
   ]
  },
  {
   "cell_type": "code",
   "execution_count": 34,
   "id": "348f36df",
   "metadata": {},
   "outputs": [
    {
     "data": {
      "text/plain": [
       "(483, 9)"
      ]
     },
     "execution_count": 34,
     "metadata": {},
     "output_type": "execute_result"
    }
   ],
   "source": [
    "x_test.shape"
   ]
  },
  {
   "cell_type": "code",
   "execution_count": 35,
   "id": "d0126406",
   "metadata": {},
   "outputs": [],
   "source": [
    "(x_train, ye_train, y_train, e_train,\n",
    "x_val, ye_val, y_val, e_val,\n",
    "x_test, ye_test, y_test, e_test) = ds.get_train_val_test_final_eval(0)"
   ]
  },
  {
   "cell_type": "code",
   "execution_count": 36,
   "id": "f03aece0",
   "metadata": {},
   "outputs": [
    {
     "data": {
      "text/plain": [
       "(1932, 9)"
      ]
     },
     "execution_count": 36,
     "metadata": {},
     "output_type": "execute_result"
    }
   ],
   "source": [
    "x_train.shape"
   ]
  },
  {
   "cell_type": "code",
   "execution_count": 37,
   "id": "dbfe3b64",
   "metadata": {},
   "outputs": [
    {
     "data": {
      "text/plain": [
       "(1612, 9)"
      ]
     },
     "execution_count": 37,
     "metadata": {},
     "output_type": "execute_result"
    }
   ],
   "source": [
    "x_test.shape"
   ]
  },
  {
   "cell_type": "code",
   "execution_count": 38,
   "id": "9670b692",
   "metadata": {},
   "outputs": [
    {
     "data": {
      "text/plain": [
       "(484, 9)"
      ]
     },
     "execution_count": 38,
     "metadata": {},
     "output_type": "execute_result"
    }
   ],
   "source": [
    "x_val.shape"
   ]
  },
  {
   "cell_type": "code",
   "execution_count": 39,
   "id": "afdea8f6",
   "metadata": {},
   "outputs": [
    {
     "data": {
      "text/plain": [
       "array([[ 0.25502932, -0.41083336,  3.082207  , ..., -0.62044036,\n",
       "        -0.5414542 , -0.35014728],\n",
       "       [ 0.5511726 , -0.41083336, -0.32444286, ..., -0.62044036,\n",
       "        -0.5414542 , -0.35014728],\n",
       "       [ 0.22212452,  2.434077  , -0.32444286, ...,  1.6117585 ,\n",
       "        -0.5414542 , -0.35014728],\n",
       "       ...,\n",
       "       [-0.17273325,  2.434077  ,  3.082207  , ..., -0.62044036,\n",
       "        -0.5414542 ,  2.8559408 ],\n",
       "       [ 0.6827919 , -0.41083336, -0.32444286, ..., -0.62044036,\n",
       "        -0.5414542 , -0.35014728],\n",
       "       [-0.20563805,  2.434077  ,  3.082207  , ..., -0.62044036,\n",
       "        -0.5414542 , -0.35014728]], dtype=float32)"
      ]
     },
     "execution_count": 39,
     "metadata": {},
     "output_type": "execute_result"
    }
   ],
   "source": [
    "x_test"
   ]
  },
  {
   "cell_type": "code",
   "execution_count": null,
   "id": "6708eb8e",
   "metadata": {},
   "outputs": [],
   "source": []
  }
 ],
 "metadata": {
  "kernelspec": {
   "display_name": "Python 3",
   "language": "python",
   "name": "python3"
  },
  "language_info": {
   "codemirror_mode": {
    "name": "ipython",
    "version": 3
   },
   "file_extension": ".py",
   "mimetype": "text/x-python",
   "name": "python",
   "nbconvert_exporter": "python",
   "pygments_lexer": "ipython3",
   "version": "3.7.10"
  }
 },
 "nbformat": 4,
 "nbformat_minor": 5
}
